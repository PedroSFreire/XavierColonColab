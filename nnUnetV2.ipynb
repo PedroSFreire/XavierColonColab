{
  "nbformat": 4,
  "nbformat_minor": 0,
  "metadata": {
    "colab": {
      "provenance": [],
      "gpuType": "T4",
      "private_outputs": true
    },
    "kernelspec": {
      "name": "python3",
      "display_name": "Python 3"
    },
    "language_info": {
      "name": "python"
    },
    "accelerator": "GPU"
  },
  "cells": [
    {
      "cell_type": "markdown",
      "source": [
        "Code to train nnUnetV2"
      ],
      "metadata": {
        "id": "Z-H2Uxv_X1xv"
      }
    },
    {
      "cell_type": "markdown",
      "source": [
        "#nnU-net\n",
        "##Imports and check GPU access\n",
        "\n"
      ],
      "metadata": {
        "id": "Cs5sgN8FpKkp"
      }
    },
    {
      "cell_type": "code",
      "execution_count": null,
      "metadata": {
        "id": "wOPoK1oFo7Hh"
      },
      "outputs": [],
      "source": [
        "import os\n",
        "import shutil\n",
        "from collections import OrderedDict\n",
        "import zipfile\n",
        "import json\n",
        "import matplotlib.pyplot as plt\n",
        "import nibabel as nib\n",
        "from pathlib import Path\n",
        "import numpy as np\n",
        "import torch\n"
      ]
    },
    {
      "cell_type": "code",
      "source": [
        "assert torch.cuda.is_available()"
      ],
      "metadata": {
        "id": "nE3ZORNbpKYx"
      },
      "execution_count": null,
      "outputs": []
    },
    {
      "cell_type": "code",
      "source": [
        "# prompt: extract file in /content/drive/My Drive/Colab/nnUNet_raw/Dataset002_FullTraining/imagesTr\n",
        "\n",
        "zip_ref = zipfile.ZipFile(\"/content/drive/My Drive/Colab/nnUNet_raw/Dataset002_FullTraining/imagesTr/Totalsegmentator_dataset_v201.zip\", 'r')\n",
        "zip_ref.extractall(\"/content/drive/My Drive/Colab/nnUNet_raw/Dataset002_FullTraining/imagesTr\")\n",
        "zip_ref.close()\n"
      ],
      "metadata": {
        "id": "0P1VQBE7eluz"
      },
      "execution_count": null,
      "outputs": []
    },
    {
      "cell_type": "markdown",
      "source": [
        "##Install nn-Unet"
      ],
      "metadata": {
        "id": "lB0s6fW1qQuV"
      }
    },
    {
      "cell_type": "code",
      "source": [
        "!pip install nnunetv2\n"
      ],
      "metadata": {
        "id": "diojpSAAqPbu",
        "collapsed": true
      },
      "execution_count": null,
      "outputs": []
    },
    {
      "cell_type": "code",
      "source": [
        "import nnunetv2\n"
      ],
      "metadata": {
        "id": "zQsgn8c6PyFu"
      },
      "execution_count": null,
      "outputs": []
    },
    {
      "cell_type": "code",
      "source": [
        "!nnUNet_print_available_pretrained_models"
      ],
      "metadata": {
        "id": "hRgHdp0EvoKX"
      },
      "execution_count": null,
      "outputs": []
    },
    {
      "cell_type": "markdown",
      "source": [
        "#Install Weights&Biases"
      ],
      "metadata": {
        "id": "QdBD29EXrrz3"
      }
    },
    {
      "cell_type": "code",
      "source": [
        "pip install wandb\n"
      ],
      "metadata": {
        "id": "yCXdm8IIr6rR"
      },
      "execution_count": null,
      "outputs": []
    },
    {
      "cell_type": "markdown",
      "source": [
        "#Mount Drive and prep folders\n"
      ],
      "metadata": {
        "id": "y7TA1qYbs88x"
      }
    },
    {
      "cell_type": "code",
      "source": [
        "from google.colab import drive\n",
        "drive.mount('/content/drive',force_remount = True)\n",
        "\n",
        "drive_dir = \"/content/drive/My Drive\"\n",
        "mount_dir = os.path.join(drive_dir, \"Colab\")\n",
        "base_dir = os.getcwd()"
      ],
      "metadata": {
        "id": "HYJ3ZqLGtA4k"
      },
      "execution_count": null,
      "outputs": []
    },
    {
      "cell_type": "code",
      "source": [
        "#create folders\n",
        "def make_if_dont_exist(folder_path,overwrite=False):\n",
        "    \"\"\"\n",
        "    creates a folder if it does not exists\n",
        "    input:\n",
        "    folder_path : relative path of the folder which needs to be created\n",
        "    over_write :(default: False) if True overwrite the existing folder\n",
        "    \"\"\"\n",
        "    if os.path.exists(folder_path):\n",
        "\n",
        "        if not overwrite:\n",
        "            print(f\"{folder_path} exists.\")\n",
        "        else:\n",
        "            print(f\"{folder_path} overwritten\")\n",
        "            shutil.rmtree(folder_path)\n",
        "            os.makedirs(folder_path)\n",
        "\n",
        "    else:\n",
        "      os.makedirs(folder_path)\n",
        "      print(f\"{folder_path} created!\")"
      ],
      "metadata": {
        "id": "lZXXYYAhzF3r"
      },
      "execution_count": null,
      "outputs": []
    },
    {
      "cell_type": "markdown",
      "source": [
        "#Environment Variables"
      ],
      "metadata": {
        "id": "q1_FOATSQj9M"
      }
    },
    {
      "cell_type": "code",
      "source": [
        "print(\"Current Working Directory {}\".format(os.getcwd()))\n",
        "path_dict = {\n",
        "    \"nnUNet_raw\" : os.path.join(mount_dir, \"nnUNet_raw\"),\n",
        "    \"nnUNet_preprocessed\" : os.path.join(mount_dir, \"nnUNet_preprocessed\"), # 1 experiment: 1 epoch took 112s\n",
        "    \"nnUNet_results\" : os.path.join(mount_dir, \"nnUNet_results\"),\n",
        "    \"RAW_DATA_PATH\" : os.path.join(mount_dir, \"RawData\"), # This is used here only for convenience (not necessary for nnU-Net)!\n",
        "}\n",
        "\n",
        "# Write paths to environment variables\n",
        "for env_var, path in path_dict.items():\n",
        "  os.environ[env_var] = path\n",
        "\n",
        "# Check whether all environment variables are set correct!\n",
        "for env_var, path in path_dict.items():\n",
        "  if os.getenv(env_var) != path:\n",
        "    print(\"Error:\")\n",
        "    print(\"Environment Variable {} is not set correctly!\".format(env_var))\n",
        "    print(\"Should be {}\".format(path))\n",
        "    print(\"Variable is {}\".format(os.getenv(env_var)))\n",
        "  make_if_dont_exist(path, overwrite=False)\n",
        "\n",
        "print(\"If No Error Occured Continue Forward. =)\")"
      ],
      "metadata": {
        "id": "iVleR-yZQvsh"
      },
      "execution_count": null,
      "outputs": []
    },
    {
      "cell_type": "markdown",
      "source": [
        "#Get nnUnet parameters"
      ],
      "metadata": {
        "id": "QNQl3qt-Oe6b"
      }
    },
    {
      "cell_type": "markdown",
      "source": [
        "Preprocess dataset to get network config"
      ],
      "metadata": {
        "id": "XOz9HCP-YjmJ"
      }
    },
    {
      "cell_type": "code",
      "source": [
        "\n",
        "!nnUNetv2_plan_and_preprocess -d 2 --verify_dataset_integrity\n"
      ],
      "metadata": {
        "id": "GYp2lKKHOq5o"
      },
      "execution_count": null,
      "outputs": []
    },
    {
      "cell_type": "code",
      "source": [
        "!nnUNetv2_train 1 3d_fullres 0 -tr nnUNetTrainer --c\n",
        "\n"
      ],
      "metadata": {
        "id": "ARvoRUmJiCjF",
        "collapsed": true
      },
      "execution_count": null,
      "outputs": []
    },
    {
      "cell_type": "markdown",
      "source": [
        "Find best config from trained models after training"
      ],
      "metadata": {
        "id": "vN4KsVKLY0lN"
      }
    },
    {
      "cell_type": "code",
      "source": [
        "!nnUNetv2_find_best_configuration 1 -c 3d_fullres\n"
      ],
      "metadata": {
        "id": "qlyfZudnhv0T"
      },
      "execution_count": null,
      "outputs": []
    },
    {
      "cell_type": "code",
      "source": [
        "!nnUNetv2_predict -i \"/content/drive/My Drive/Colab/nnUNet_raw/Dataset001_TestSet/imagesTest\" -o \"/content/drive/My Drive/Colab/nnUNet_raw/Dataset001_TestSet/inference\" -d 1 -c 3d_fullres -f 0\n"
      ],
      "metadata": {
        "id": "XEtH0JWzDh7l"
      },
      "execution_count": null,
      "outputs": []
    }
  ]
}